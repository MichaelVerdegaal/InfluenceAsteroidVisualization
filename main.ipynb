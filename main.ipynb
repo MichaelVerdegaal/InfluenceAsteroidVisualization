{
 "cells": [
  {
   "cell_type": "markdown",
   "metadata": {
    "collapsed": true,
    "pycharm": {
     "name": "#%% md\n"
    }
   },
   "source": [
    "# Influence asteroid visualizations\n",
    "\n",
    "This is a simple notebook showcasing some interesting statistics for the asteroids available in the Influence game.\n",
    "We'll inspect the owned asteroid group, the unowned one and the full group."
   ]
  },
  {
   "cell_type": "code",
   "execution_count": 37,
   "outputs": [],
   "source": [
    "import pandas as pd\n",
    "import matplotlib.pyplot as plt\n",
    "\n",
    "df = pd.read_json('2021-09-05-adalia-info-asteroids.json', lines=True)\n"
   ],
   "metadata": {
    "collapsed": false,
    "pycharm": {
     "name": "#%%\n"
    }
   }
  },
  {
   "cell_type": "code",
   "execution_count": 38,
   "outputs": [
    {
     "name": "stdout",
     "output_type": "stream",
     "text": [
      "Rows/Columns: (250000, 17)\n",
      "_id                    0\n",
      "id                     0\n",
      "baseName               0\n",
      "bonuses                0\n",
      "eccentricity           0\n",
      "estimatedPrice      1860\n",
      "inclination            0\n",
      "name                   0\n",
      "orbitalPeriod          0\n",
      "owner             248140\n",
      "radius                 0\n",
      "rarity            248633\n",
      "scanned                0\n",
      "semiMajorAxis          0\n",
      "size                   0\n",
      "spectralType           0\n",
      "surfaceArea            0\n",
      "dtype: int64\n",
      "(248140, 17) (1860, 17)\n"
     ]
    }
   ],
   "source": [
    "# Inspect initial shape of dataframe\n",
    "print(f'Rows/Columns: {df.shape}')\n",
    "print(df.isnull().sum())\n",
    "\n",
    "# Split asteroids based on ownership status\n",
    "unowned_df, owned_df = df[df['owner'].isnull()], df[df['owner'].notnull()]\n",
    "print(unowned_df.shape, owned_df.shape)"
   ],
   "metadata": {
    "collapsed": false,
    "pycharm": {
     "name": "#%%\n"
    }
   }
  },
  {
   "cell_type": "markdown",
   "source": [
    "We can see that at the early access sale, 1860 asteroids have been sold already, a mere fraction of the total supply of\n",
    "asteroids."
   ],
   "metadata": {
    "collapsed": false,
    "pycharm": {
     "name": "#%% md\n"
    }
   }
  },
  {
   "cell_type": "code",
   "execution_count": 39,
   "outputs": [
    {
     "data": {
      "text/plain": "<AxesSubplot:title={'center':'Asteroids spectral type distribution'}>"
     },
     "execution_count": 39,
     "metadata": {},
     "output_type": "execute_result"
    },
    {
     "data": {
      "text/plain": "<Figure size 432x288 with 1 Axes>",
      "image/png": "[encoded data removed]"
     },
     "metadata": {
      "needs_background": "light"
     },
     "output_type": "display_data"
    }
   ],
   "source": [
    "# Illustrate spectral type distribution\n",
    "df['spectralType'].value_counts().plot(kind='bar', title=\"Asteroids spectral type distribution\")"
   ],
   "metadata": {
    "collapsed": false,
    "pycharm": {
     "name": "#%%\n"
    }
   }
  },
  {
   "cell_type": "markdown",
   "source": [
    "Clear from this barchart is that there is an overwhelming majority of C type asteroids, this is already known though if\n",
    "you ever read the [wiki page](https://wiki.influenceth.io/en/gameplay/spectral-types) on spectral types. But what about\n",
    "the currently sold asteroids?"
   ],
   "metadata": {
    "collapsed": false,
    "pycharm": {
     "name": "#%% md\n"
    }
   }
  },
  {
   "cell_type": "code",
   "execution_count": 40,
   "outputs": [
    {
     "data": {
      "text/plain": "<AxesSubplot:title={'center':'Owned asteroids spectral type distribution'}>"
     },
     "execution_count": 40,
     "metadata": {},
     "output_type": "execute_result"
    },
    {
     "data": {
      "text/plain": "<Figure size 432x288 with 1 Axes>",
      "image/png": "[encoded data removed]"
     },
     "metadata": {
      "needs_background": "light"
     },
     "output_type": "display_data"
    }
   ],
   "source": [
    "# Illustrate spectral type distribution\n",
    "owned_df['spectralType'].value_counts().plot(kind='bar', title=\"Owned asteroids spectral type distribution\")"
   ],
   "metadata": {
    "collapsed": false,
    "pycharm": {
     "name": "#%%\n"
    }
   }
  },
  {
   "cell_type": "markdown",
   "source": [
    "Now this chart shows that the early access investors have a large preference for the pure types and the triple types,\n",
    "with few being interested in the double types. Specifically I types are very hot!\n",
    "\n",
    "\n"
   ],
   "metadata": {
    "collapsed": false
   }
  }
 ],
 "metadata": {
  "kernelspec": {
   "display_name": "Python 3",
   "language": "python",
   "name": "python3"
  },
  "language_info": {
   "codemirror_mode": {
    "name": "ipython",
    "version": 2
   },
   "file_extension": ".py",
   "mimetype": "text/x-python",
   "name": "python",
   "nbconvert_exporter": "python",
   "pygments_lexer": "ipython2",
   "version": "2.7.6"
  }
 },
 "nbformat": 4,
 "nbformat_minor": 0
}